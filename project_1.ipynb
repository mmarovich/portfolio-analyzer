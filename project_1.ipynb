{
 "cells": [
  {
   "cell_type": "code",
   "execution_count": 12,
   "id": "a77c6717-9e0f-4cc8-9f94-a8188ce4921f",
   "metadata": {},
   "outputs": [],
   "source": [
    "# import all libraries\n",
    "\n",
    "from pathlib import Path\n",
    "\n",
    "from modules.random_csv_stock import stock_tickers_random\n"
   ]
  },
  {
   "cell_type": "code",
   "execution_count": 13,
   "id": "c39c9de5-04f2-4641-ba58-f3fcc3cedc58",
   "metadata": {},
   "outputs": [],
   "source": [
    "# function to return MAANG ticker symbols\n",
    "\n",
    "def stock_tickers_maang():\n",
    "    maang_tickers = [\"META\", \"AAPL\", \"AMZN\", \"NFLX\", \"GOOGL\"]    \n",
    "    return maang_tickers"
   ]
  },
  {
   "cell_type": "markdown",
   "id": "12a34421-ebc2-4362-b256-5a4bb618625b",
   "metadata": {},
   "source": [
    "### Use the stock_tickers_random function in the modules folder to retrieve 5 random stocks from the CSV file"
   ]
  },
  {
   "cell_type": "code",
   "execution_count": 14,
   "id": "f583aee1-a3ec-46d1-9932-9c3cf6e0de37",
   "metadata": {},
   "outputs": [
    {
     "name": "stdout",
     "output_type": "stream",
     "text": [
      "['AXP', 'V', 'KO', 'AXP', 'JNJ']\n"
     ]
    }
   ],
   "source": [
    "random_cvs_stock = stock_tickers_random()\n",
    "print(random_cvs_stock)"
   ]
  },
  {
   "cell_type": "code",
   "execution_count": null,
   "id": "e8f3060d-18f1-4d5b-81a0-90631d9d0ef7",
   "metadata": {},
   "outputs": [],
   "source": []
  }
 ],
 "metadata": {
  "kernelspec": {
   "display_name": "Python 3 (ipykernel)",
   "language": "python",
   "name": "python3"
  },
  "language_info": {
   "codemirror_mode": {
    "name": "ipython",
    "version": 3
   },
   "file_extension": ".py",
   "mimetype": "text/x-python",
   "name": "python",
   "nbconvert_exporter": "python",
   "pygments_lexer": "ipython3",
   "version": "3.7.13"
  },
  "vscode": {
   "interpreter": {
    "hash": "9890ee6586a919ddcb3d0007e8f47549869a087bb534a0fee35f8964d05552ff"
   }
  }
 },
 "nbformat": 4,
 "nbformat_minor": 5
}
